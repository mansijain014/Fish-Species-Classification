{
 "cells": [
  {
   "cell_type": "code",
   "execution_count": 3,
   "metadata": {
    "_cell_guid": "b1076dfc-b9ad-4769-8c92-a6c4dae69d19",
    "_uuid": "8f2839f25d086af736a60e9eeb907d3b93b6e0e5"
   },
   "outputs": [],
   "source": [
    "import numpy as np\n",
    "import pandas as pd\n",
    "import matplotlib.pyplot as plt\n",
    "import seaborn as sns\n",
    "\n",
    "from tensorflow.keras.layers import Conv2D, MaxPooling2D, Dropout, Flatten, Dense, Layer, BatchNormalization, GlobalAveragePooling2D \n",
    "from tensorflow.keras.optimizers import Adam\n",
    "from tensorflow.keras.optimizers.schedules import ExponentialDecay\n",
    "\n",
    "from tensorflow.keras.models import Sequential\n",
    "from tensorflow.keras.callbacks import EarlyStopping, ReduceLROnPlateau\n",
    "from tensorflow.keras.preprocessing.image import ImageDataGenerator\n",
    "import os\n",
    "\n",
    "from sklearn.model_selection import train_test_split"
   ]
  },
  {
   "cell_type": "code",
   "execution_count": 4,
   "metadata": {},
   "outputs": [
    {
     "data": {
      "text/plain": [
       "['Black Sea Sprat',\n",
       " 'Gilt-Head Bream',\n",
       " 'Hourse Mackerel',\n",
       " 'Red Mullet',\n",
       " 'Red Sea Bream',\n",
       " 'Sea Bass',\n",
       " 'Shrimp',\n",
       " 'Striped Red Mullet',\n",
       " 'Trout']"
      ]
     },
     "execution_count": 4,
     "metadata": {},
     "output_type": "execute_result"
    }
   ],
   "source": [
    "BASE_DIR = 'archive/Fish_Dataset/Fish_Dataset'\n",
    "classes = [i for i in os.listdir(BASE_DIR) if '.' not in i]\n",
    "classes"
   ]
  },
  {
   "cell_type": "code",
   "execution_count": 5,
   "metadata": {},
   "outputs": [],
   "source": [
    "image_paths = []\n",
    "image_classes = np.array([[cls]*1000 for cls in classes]).reshape(-1)\n",
    "for cls in classes:\n",
    "    image_paths.extend([os.path.join(BASE_DIR, cls,cls, i) for i in os.listdir(os.path.join(BASE_DIR, cls,cls))])"
   ]
  },
  {
   "cell_type": "code",
   "execution_count": 6,
   "metadata": {},
   "outputs": [],
   "source": [
    "img_shape = (590 , 445, 3)"
   ]
  },
  {
   "cell_type": "code",
   "execution_count": 7,
   "metadata": {},
   "outputs": [
    {
     "data": {
      "text/html": [
       "<div>\n",
       "<style scoped>\n",
       "    .dataframe tbody tr th:only-of-type {\n",
       "        vertical-align: middle;\n",
       "    }\n",
       "\n",
       "    .dataframe tbody tr th {\n",
       "        vertical-align: top;\n",
       "    }\n",
       "\n",
       "    .dataframe thead th {\n",
       "        text-align: right;\n",
       "    }\n",
       "</style>\n",
       "<table border=\"1\" class=\"dataframe\">\n",
       "  <thead>\n",
       "    <tr style=\"text-align: right;\">\n",
       "      <th></th>\n",
       "      <th>path</th>\n",
       "      <th>class</th>\n",
       "    </tr>\n",
       "  </thead>\n",
       "  <tbody>\n",
       "    <tr>\n",
       "      <th>0</th>\n",
       "      <td>archive/Fish_Dataset/Fish_Dataset\\Black Sea Sp...</td>\n",
       "      <td>Black Sea Sprat</td>\n",
       "    </tr>\n",
       "    <tr>\n",
       "      <th>1</th>\n",
       "      <td>archive/Fish_Dataset/Fish_Dataset\\Black Sea Sp...</td>\n",
       "      <td>Black Sea Sprat</td>\n",
       "    </tr>\n",
       "    <tr>\n",
       "      <th>2</th>\n",
       "      <td>archive/Fish_Dataset/Fish_Dataset\\Black Sea Sp...</td>\n",
       "      <td>Black Sea Sprat</td>\n",
       "    </tr>\n",
       "    <tr>\n",
       "      <th>3</th>\n",
       "      <td>archive/Fish_Dataset/Fish_Dataset\\Black Sea Sp...</td>\n",
       "      <td>Black Sea Sprat</td>\n",
       "    </tr>\n",
       "    <tr>\n",
       "      <th>4</th>\n",
       "      <td>archive/Fish_Dataset/Fish_Dataset\\Black Sea Sp...</td>\n",
       "      <td>Black Sea Sprat</td>\n",
       "    </tr>\n",
       "  </tbody>\n",
       "</table>\n",
       "</div>"
      ],
      "text/plain": [
       "                                                path            class\n",
       "0  archive/Fish_Dataset/Fish_Dataset\\Black Sea Sp...  Black Sea Sprat\n",
       "1  archive/Fish_Dataset/Fish_Dataset\\Black Sea Sp...  Black Sea Sprat\n",
       "2  archive/Fish_Dataset/Fish_Dataset\\Black Sea Sp...  Black Sea Sprat\n",
       "3  archive/Fish_Dataset/Fish_Dataset\\Black Sea Sp...  Black Sea Sprat\n",
       "4  archive/Fish_Dataset/Fish_Dataset\\Black Sea Sp...  Black Sea Sprat"
      ]
     },
     "execution_count": 7,
     "metadata": {},
     "output_type": "execute_result"
    }
   ],
   "source": [
    "data = pd.DataFrame({'path':image_paths, 'class':image_classes, })\n",
    "data.head()"
   ]
  },
  {
   "cell_type": "code",
   "execution_count": 8,
   "metadata": {},
   "outputs": [],
   "source": [
    "def get_generators(data, is_rgb =True):\n",
    "    color_mode = 'rgb' if is_rgb else 'grayscale'\n",
    "    data_full, data_remainder = train_test_split(data, stratify = data['class'], test_size = 0.2)\n",
    "    train_datagen = ImageDataGenerator(rescale=1.0/255, validation_split=0.1)\n",
    "\n",
    "    test_datagen = ImageDataGenerator(rescale = 1.0/255)\n",
    "    train_generator = train_datagen.flow_from_dataframe(data_full, x_col='path', y_col='class',\n",
    "         target_size=img_shape[:-1], color_mode=color_mode,\n",
    "        class_mode='categorical', batch_size=32, shuffle=True,\n",
    "        subset='training'\n",
    "        )\n",
    "    val_generator = train_datagen.flow_from_dataframe(data_full, x_col='path', y_col='class',\n",
    "         target_size=img_shape[:-1], color_mode=color_mode,\n",
    "        class_mode='categorical', batch_size=32, shuffle=True,\n",
    "        subset='validation'\n",
    "        )\n",
    "    test_generator = test_datagen.flow_from_dataframe(data_remainder, x_col = 'path', y_col = 'class', target_size = img_shape[:-1], color_mode = color_mode,class_mode = 'categorical')\n",
    "    return train_generator, val_generator, test_generator"
   ]
  },
  {
   "cell_type": "code",
   "execution_count": 9,
   "metadata": {},
   "outputs": [
    {
     "name": "stdout",
     "output_type": "stream",
     "text": [
      "Found 6480 validated image filenames belonging to 9 classes.\n",
      "Found 720 validated image filenames belonging to 9 classes.\n",
      "Found 1800 validated image filenames belonging to 9 classes.\n"
     ]
    }
   ],
   "source": [
    "train_gen, val_gen, test_gen = get_generators(data)"
   ]
  },
  {
   "cell_type": "code",
   "execution_count": 18,
   "metadata": {},
   "outputs": [
    {
     "name": "stdout",
     "output_type": "stream",
     "text": [
      "Model: \"sequential_3\"\n",
      "_________________________________________________________________\n",
      " Layer (type)                Output Shape              Param #   \n",
      "=================================================================\n",
      " conv2d_12 (Conv2D)          (None, 196, 148, 16)      448       \n",
      "                                                                 \n",
      " max_pooling2d_12 (MaxPoolin  (None, 98, 74, 16)       0         \n",
      " g2D)                                                            \n",
      "                                                                 \n",
      " conv2d_13 (Conv2D)          (None, 48, 36, 32)        4640      \n",
      "                                                                 \n",
      " max_pooling2d_13 (MaxPoolin  (None, 24, 18, 32)       0         \n",
      " g2D)                                                            \n",
      "                                                                 \n",
      " conv2d_14 (Conv2D)          (None, 22, 16, 64)        18496     \n",
      "                                                                 \n",
      " max_pooling2d_14 (MaxPoolin  (None, 11, 8, 64)        0         \n",
      " g2D)                                                            \n",
      "                                                                 \n",
      " conv2d_15 (Conv2D)          (None, 9, 6, 64)          36928     \n",
      "                                                                 \n",
      " max_pooling2d_15 (MaxPoolin  (None, 4, 3, 64)         0         \n",
      " g2D)                                                            \n",
      "                                                                 \n",
      " flatten_3 (Flatten)         (None, 768)               0         \n",
      "                                                                 \n",
      " dropout_6 (Dropout)         (None, 768)               0         \n",
      "                                                                 \n",
      " dense_6 (Dense)             (None, 256)               196864    \n",
      "                                                                 \n",
      " dropout_7 (Dropout)         (None, 256)               0         \n",
      "                                                                 \n",
      " dense_7 (Dense)             (None, 9)                 2313      \n",
      "                                                                 \n",
      "=================================================================\n",
      "Total params: 259,689\n",
      "Trainable params: 259,689\n",
      "Non-trainable params: 0\n",
      "_________________________________________________________________\n"
     ]
    }
   ],
   "source": [
    "model = Sequential([\n",
    "    Conv2D(16,(3,3), strides = 3, input_shape = img_shape),\n",
    "    MaxPooling2D(),\n",
    "    Conv2D(32, (3,3),strides=2),\n",
    "    \n",
    "    MaxPooling2D(),\n",
    "    Conv2D(64, (3,3)),\n",
    "    MaxPooling2D(),\n",
    "    Conv2D(64,(3,3)),\n",
    "    MaxPooling2D(),\n",
    "    Flatten(),\n",
    "    Dropout(0.5),\n",
    "    Dense(256, activation = 'relu'),\n",
    "    Dropout(0.5),\n",
    "    Dense(9, activation = 'softmax')\n",
    "])\n",
    "model.summary()"
   ]
  },
  {
   "cell_type": "code",
   "execution_count": 16,
   "metadata": {},
   "outputs": [
    {
     "name": "stdout",
     "output_type": "stream",
     "text": [
      "Epoch 1/20\n",
      "203/203 [==============================] - 110s 539ms/step - loss: 0.2673 - accuracy: 0.9069 - val_loss: 0.1252 - val_accuracy: 0.9556\n",
      "Epoch 2/20\n",
      "203/203 [==============================] - 110s 542ms/step - loss: 0.2441 - accuracy: 0.9157 - val_loss: 0.1420 - val_accuracy: 0.9569\n",
      "Epoch 3/20\n",
      "203/203 [==============================] - 94s 463ms/step - loss: 0.1938 - accuracy: 0.9316 - val_loss: 0.1202 - val_accuracy: 0.9514\n",
      "Epoch 4/20\n",
      "203/203 [==============================] - 78s 384ms/step - loss: 0.1617 - accuracy: 0.9438 - val_loss: 0.1479 - val_accuracy: 0.9583\n",
      "Epoch 5/20\n",
      "203/203 [==============================] - 77s 381ms/step - loss: 0.1996 - accuracy: 0.9340 - val_loss: 0.0504 - val_accuracy: 0.9833\n",
      "Epoch 6/20\n",
      "203/203 [==============================] - 80s 396ms/step - loss: 0.1309 - accuracy: 0.9560 - val_loss: 0.0530 - val_accuracy: 0.9806\n",
      "Epoch 7/20\n",
      "203/203 [==============================] - 80s 394ms/step - loss: 0.1226 - accuracy: 0.9593 - val_loss: 0.0810 - val_accuracy: 0.9708\n",
      "Epoch 8/20\n",
      "203/203 [==============================] - 78s 385ms/step - loss: 0.0978 - accuracy: 0.9651 - val_loss: 0.0774 - val_accuracy: 0.9792\n",
      "Epoch 9/20\n",
      "203/203 [==============================] - 79s 390ms/step - loss: 0.1011 - accuracy: 0.9648 - val_loss: 0.0528 - val_accuracy: 0.9819\n",
      "Epoch 10/20\n",
      "203/203 [==============================] - 77s 381ms/step - loss: 0.0802 - accuracy: 0.9724 - val_loss: 0.0587 - val_accuracy: 0.9875\n",
      "Epoch 11/20\n",
      "203/203 [==============================] - 77s 380ms/step - loss: 0.0635 - accuracy: 0.9781 - val_loss: 0.0438 - val_accuracy: 0.9861\n",
      "Epoch 12/20\n",
      "203/203 [==============================] - 79s 387ms/step - loss: 0.0639 - accuracy: 0.9778 - val_loss: 0.0263 - val_accuracy: 0.9931\n",
      "Epoch 13/20\n",
      "203/203 [==============================] - 83s 409ms/step - loss: 0.0598 - accuracy: 0.9795 - val_loss: 0.0410 - val_accuracy: 0.9861\n",
      "Epoch 14/20\n",
      "203/203 [==============================] - 82s 405ms/step - loss: 0.0486 - accuracy: 0.9840 - val_loss: 0.0204 - val_accuracy: 0.9931\n",
      "Epoch 15/20\n",
      "203/203 [==============================] - 83s 407ms/step - loss: 0.0364 - accuracy: 0.9880 - val_loss: 0.0209 - val_accuracy: 0.9875\n",
      "Epoch 16/20\n",
      "203/203 [==============================] - 82s 406ms/step - loss: 0.0462 - accuracy: 0.9843 - val_loss: 0.0543 - val_accuracy: 0.9750\n",
      "Epoch 17/20\n",
      "203/203 [==============================] - 83s 410ms/step - loss: 0.0347 - accuracy: 0.9880 - val_loss: 0.0170 - val_accuracy: 0.9958\n",
      "Epoch 18/20\n",
      "203/203 [==============================] - 81s 399ms/step - loss: 0.0300 - accuracy: 0.9909 - val_loss: 0.0202 - val_accuracy: 0.9903\n",
      "Epoch 19/20\n",
      "203/203 [==============================] - 80s 395ms/step - loss: 0.0266 - accuracy: 0.9903 - val_loss: 0.0118 - val_accuracy: 0.9958\n",
      "Epoch 20/20\n",
      "203/203 [==============================] - 81s 400ms/step - loss: 0.0174 - accuracy: 0.9940 - val_loss: 0.0191 - val_accuracy: 0.9889\n"
     ]
    }
   ],
   "source": [
    "earlystop = EarlyStopping(patience = 10,restore_best_weights=True )\n",
    "schedule = ExponentialDecay(initial_learning_rate = 0.002, decay_steps = 1000, decay_rate = 0.7)\n",
    "model.compile(loss = 'categorical_crossentropy', optimizer = Adam(learning_rate =schedule), metrics = ['accuracy'])\n",
    "history = model.fit(train_gen, validation_data = val_gen,epochs = 20, callbacks = [earlystop])"
   ]
  },
  {
   "cell_type": "code",
   "execution_count": 17,
   "metadata": {},
   "outputs": [
    {
     "name": "stdout",
     "output_type": "stream",
     "text": [
      "57/57 [==============================] - 18s 307ms/step - loss: 0.0166 - accuracy: 0.9967\n"
     ]
    },
    {
     "data": {
      "text/plain": [
       "[0.01655295118689537, 0.996666669845581]"
      ]
     },
     "execution_count": 17,
     "metadata": {},
     "output_type": "execute_result"
    }
   ],
   "source": [
    "model.evaluate(test_gen)"
   ]
  }
 ],
 "metadata": {
  "kernelspec": {
   "display_name": "Python 3 (ipykernel)",
   "language": "python",
   "name": "python3"
  },
  "language_info": {
   "codemirror_mode": {
    "name": "ipython",
    "version": 3
   },
   "file_extension": ".py",
   "mimetype": "text/x-python",
   "name": "python",
   "nbconvert_exporter": "python",
   "pygments_lexer": "ipython3",
   "version": "3.9.7"
  },
  "widgets": {
   "application/vnd.jupyter.widget-state+json": {
    "state": {},
    "version_major": 2,
    "version_minor": 0
   }
  }
 },
 "nbformat": 4,
 "nbformat_minor": 4
}
